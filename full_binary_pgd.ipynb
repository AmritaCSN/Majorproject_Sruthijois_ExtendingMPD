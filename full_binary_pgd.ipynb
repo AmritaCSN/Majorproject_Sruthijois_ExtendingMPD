{
 "cells": [
  {
   "cell_type": "markdown",
   "id": "8970f392-142b-4c82-8ce3-b0277971810a",
   "metadata": {},
   "source": [
    "loading data and data flattening :\n",
    "--------------------------------------------"
   ]
  },
  {
   "cell_type": "code",
   "execution_count": 1,
   "id": "5f329f5b-e279-4864-be07-0d93b19b80ab",
   "metadata": {},
   "outputs": [
    {
     "name": "stderr",
     "output_type": "stream",
     "text": [
      "/opt/conda/lib/python3.10/site-packages/art/estimators/certification/__init__.py:14: UserWarning: PyTorch not found. Not importing DeepZ or Interval Bound Propagation functionality\n",
      "  warnings.warn(\"PyTorch not found. Not importing DeepZ or Interval Bound Propagation functionality\")\n"
     ]
    }
   ],
   "source": [
    "from sklearn.svm import SVC, LinearSVC\n",
    "\n",
    "import numpy as np\n",
    "from matplotlib import pyplot as plt\n",
    "\n",
    "from art.estimators.classification import SklearnClassifier\n",
    "from art.attacks.evasion import ProjectedGradientDescent\n",
    "\n",
    "from art.utils import load_mnist\n",
    "from joblib import dump, load\n",
    "%load_ext autoreload\n",
    "%autoreload 2\n",
    "from utils import model_performance\n",
    "# import warnings\n",
    "# warnings.filterwarnings('ignore')\n"
   ]
  },
  {
   "cell_type": "code",
   "execution_count": 2,
   "id": "ff0ee8cd-1a7d-488a-b36f-42ae3c7615b9",
   "metadata": {},
   "outputs": [],
   "source": [
    "(x_train, y_train), (x_test, y_test), min_, max_ = load_mnist()"
   ]
  },
  {
   "cell_type": "code",
   "execution_count": 3,
   "id": "86daef28-117f-4211-a409-d64cc5b7936a",
   "metadata": {},
   "outputs": [],
   "source": [
    "#data seperation to samples and features\n",
    "n_samples_train = x_train.shape[0]\n",
    "n_features_train = x_train.shape[1] * x_train.shape[2] * x_train.shape[3] #this gives an output of features 28*28*1= 784\n",
    "\n",
    "n_samples_test = x_test.shape[0]\n",
    "n_features_test = x_test.shape[1] * x_test.shape[2] * x_test.shape[3]\n",
    "\n",
    "#data flattening which gives the output of (number of samples, 784 features)\n",
    "x_train = x_train.reshape(n_samples_train, n_features_train)\n",
    "x_test = x_test.reshape(n_samples_test, n_features_test)\n",
    "\n",
    "#data flattening using argmax to get the label value \n",
    "y_train = np.argmax(y_train, axis=1)\n",
    "y_test = np.argmax(y_test, axis=1)"
   ]
  },
  {
   "cell_type": "code",
   "execution_count": 4,
   "id": "2c3ccf01-50d3-4bb9-ab2d-6076ed12f9de",
   "metadata": {},
   "outputs": [],
   "source": [
    "#taking only zero's \n",
    "\n",
    "x_train_zero = x_train[y_train == 0]\n",
    "y_train_zero = y_train[y_train == 0]\n",
    "\n",
    "\n",
    "y_test_zero =  y_test[y_test == 0]\n",
    "x_test_zero = x_test[y_test == 0]"
   ]
  },
  {
   "cell_type": "code",
   "execution_count": 5,
   "id": "d969a3c5-a30c-4923-8ce0-8e956a41a7c5",
   "metadata": {},
   "outputs": [],
   "source": [
    "#taking only one's \n",
    "\n",
    "x_train_one = x_train[y_train == 1]\n",
    "y_train_one = y_train[y_train == 1]\n",
    "\n",
    "\n",
    "y_test_one =  y_test[y_test == 1]\n",
    "x_test_one = x_test[y_test == 1]"
   ]
  },
  {
   "cell_type": "code",
   "execution_count": 6,
   "id": "b3956328-ba56-4f68-b039-c70c2dd614f2",
   "metadata": {},
   "outputs": [
    {
     "data": {
      "text/plain": [
       "array([1, 1, 1, ..., 1, 1, 1])"
      ]
     },
     "execution_count": 6,
     "metadata": {},
     "output_type": "execute_result"
    }
   ],
   "source": [
    "y_test_one"
   ]
  },
  {
   "cell_type": "code",
   "execution_count": 7,
   "id": "d241ff80-b822-47e4-83a6-480d3f876665",
   "metadata": {},
   "outputs": [],
   "source": [
    "#maxing the samples to experiment\n",
    "\n",
    "n_samples_max = 5000\n",
    "x_train_zero_5=x_train_zero[0:n_samples_max]\n",
    "y_train_zero_5=y_train_zero[0:n_samples_max]\n",
    "\n",
    "y_test_zero_5=y_test_zero[0:n_samples_max]\n",
    "x_test_zero_5=x_test_zero[0:n_samples_max]"
   ]
  },
  {
   "cell_type": "code",
   "execution_count": 8,
   "id": "c26f593a-a0d1-4dad-ab34-c0eb2fc80c0a",
   "metadata": {},
   "outputs": [],
   "source": [
    "x_train_one_5=x_train_one[0:n_samples_max]\n",
    "y_train_one_5=y_train_one[0:n_samples_max]\n",
    "\n",
    "y_test_one_5=y_test_one[0:n_samples_max]\n",
    "x_test_one_5=x_test_one[0:n_samples_max]"
   ]
  },
  {
   "cell_type": "code",
   "execution_count": 9,
   "id": "58f31587-accb-47de-9b44-bb2856e2a7a7",
   "metadata": {},
   "outputs": [
    {
     "data": {
      "text/plain": [
       "(5000, 784)"
      ]
     },
     "execution_count": 9,
     "metadata": {},
     "output_type": "execute_result"
    }
   ],
   "source": [
    "x_train_one_5.shape"
   ]
  },
  {
   "cell_type": "code",
   "execution_count": 10,
   "id": "06cbed18-495d-40f2-a590-00fb92d779b9",
   "metadata": {},
   "outputs": [],
   "source": [
    "#binary data:\n",
    "\n",
    "x_train_binary= np.concatenate((x_train_zero, x_train_one))\n",
    "y_train_binary= np.concatenate((y_train_zero, y_train_one))\n",
    "\n",
    "x_test_binary= np.concatenate((x_test_zero, x_test_one))\n",
    "y_test_binary= np.concatenate((y_test_zero, y_test_one))"
   ]
  },
  {
   "cell_type": "code",
   "execution_count": 11,
   "id": "be86dee5-ba36-4af2-92ec-76b8ac24250d",
   "metadata": {},
   "outputs": [
    {
     "data": {
      "text/plain": [
       "(array([0, 1]), array([5923, 6742]))"
      ]
     },
     "execution_count": 11,
     "metadata": {},
     "output_type": "execute_result"
    }
   ],
   "source": [
    "np.unique(y_train_binary, return_counts=True)"
   ]
  },
  {
   "cell_type": "markdown",
   "id": "a2862dff-c2a0-4001-b19f-f9bb1f3f8775",
   "metadata": {},
   "source": [
    "Train the classifier and fit only on binary classes: \n",
    "--------------------------------------------------"
   ]
  },
  {
   "cell_type": "code",
   "execution_count": 12,
   "id": "aef4d015-72fc-457a-b0b3-d6910459f96e",
   "metadata": {},
   "outputs": [],
   "source": [
    "#model = SVC(C=1.0, kernel='linear', probability=True)\n",
    "# #since we have to only fit on binary training data.\n",
    "#model.fit(x_train_binary,y_train_binary)\n",
    "#dump(model, 'binary_model.joblib')"
   ]
  },
  {
   "cell_type": "code",
   "execution_count": 13,
   "id": "2cb2ff28-c7ac-4eda-8613-221269c359ba",
   "metadata": {},
   "outputs": [],
   "source": [
    "# #since we have to only fit on binary training data.\n",
    "# model.fit(x_train_binary,y_train_binary)\n",
    "# dump(model, 'binary_model.joblib')"
   ]
  },
  {
   "cell_type": "code",
   "execution_count": 14,
   "id": "bf559a98-bda4-4e44-8a78-92cd29cea263",
   "metadata": {},
   "outputs": [
    {
     "data": {
      "text/html": [
       "<style>#sk-container-id-1 {color: black;background-color: white;}#sk-container-id-1 pre{padding: 0;}#sk-container-id-1 div.sk-toggleable {background-color: white;}#sk-container-id-1 label.sk-toggleable__label {cursor: pointer;display: block;width: 100%;margin-bottom: 0;padding: 0.3em;box-sizing: border-box;text-align: center;}#sk-container-id-1 label.sk-toggleable__label-arrow:before {content: \"▸\";float: left;margin-right: 0.25em;color: #696969;}#sk-container-id-1 label.sk-toggleable__label-arrow:hover:before {color: black;}#sk-container-id-1 div.sk-estimator:hover label.sk-toggleable__label-arrow:before {color: black;}#sk-container-id-1 div.sk-toggleable__content {max-height: 0;max-width: 0;overflow: hidden;text-align: left;background-color: #f0f8ff;}#sk-container-id-1 div.sk-toggleable__content pre {margin: 0.2em;color: black;border-radius: 0.25em;background-color: #f0f8ff;}#sk-container-id-1 input.sk-toggleable__control:checked~div.sk-toggleable__content {max-height: 200px;max-width: 100%;overflow: auto;}#sk-container-id-1 input.sk-toggleable__control:checked~label.sk-toggleable__label-arrow:before {content: \"▾\";}#sk-container-id-1 div.sk-estimator input.sk-toggleable__control:checked~label.sk-toggleable__label {background-color: #d4ebff;}#sk-container-id-1 div.sk-label input.sk-toggleable__control:checked~label.sk-toggleable__label {background-color: #d4ebff;}#sk-container-id-1 input.sk-hidden--visually {border: 0;clip: rect(1px 1px 1px 1px);clip: rect(1px, 1px, 1px, 1px);height: 1px;margin: -1px;overflow: hidden;padding: 0;position: absolute;width: 1px;}#sk-container-id-1 div.sk-estimator {font-family: monospace;background-color: #f0f8ff;border: 1px dotted black;border-radius: 0.25em;box-sizing: border-box;margin-bottom: 0.5em;}#sk-container-id-1 div.sk-estimator:hover {background-color: #d4ebff;}#sk-container-id-1 div.sk-parallel-item::after {content: \"\";width: 100%;border-bottom: 1px solid gray;flex-grow: 1;}#sk-container-id-1 div.sk-label:hover label.sk-toggleable__label {background-color: #d4ebff;}#sk-container-id-1 div.sk-serial::before {content: \"\";position: absolute;border-left: 1px solid gray;box-sizing: border-box;top: 0;bottom: 0;left: 50%;z-index: 0;}#sk-container-id-1 div.sk-serial {display: flex;flex-direction: column;align-items: center;background-color: white;padding-right: 0.2em;padding-left: 0.2em;position: relative;}#sk-container-id-1 div.sk-item {position: relative;z-index: 1;}#sk-container-id-1 div.sk-parallel {display: flex;align-items: stretch;justify-content: center;background-color: white;position: relative;}#sk-container-id-1 div.sk-item::before, #sk-container-id-1 div.sk-parallel-item::before {content: \"\";position: absolute;border-left: 1px solid gray;box-sizing: border-box;top: 0;bottom: 0;left: 50%;z-index: -1;}#sk-container-id-1 div.sk-parallel-item {display: flex;flex-direction: column;z-index: 1;position: relative;background-color: white;}#sk-container-id-1 div.sk-parallel-item:first-child::after {align-self: flex-end;width: 50%;}#sk-container-id-1 div.sk-parallel-item:last-child::after {align-self: flex-start;width: 50%;}#sk-container-id-1 div.sk-parallel-item:only-child::after {width: 0;}#sk-container-id-1 div.sk-dashed-wrapped {border: 1px dashed gray;margin: 0 0.4em 0.5em 0.4em;box-sizing: border-box;padding-bottom: 0.4em;background-color: white;}#sk-container-id-1 div.sk-label label {font-family: monospace;font-weight: bold;display: inline-block;line-height: 1.2em;}#sk-container-id-1 div.sk-label-container {text-align: center;}#sk-container-id-1 div.sk-container {/* jupyter's `normalize.less` sets `[hidden] { display: none; }` but bootstrap.min.css set `[hidden] { display: none !important; }` so we also need the `!important` here to be able to override the default hidden behavior on the sphinx rendered scikit-learn.org. See: https://github.com/scikit-learn/scikit-learn/issues/21755 */display: inline-block !important;position: relative;}#sk-container-id-1 div.sk-text-repr-fallback {display: none;}</style><div id=\"sk-container-id-1\" class=\"sk-top-container\"><div class=\"sk-text-repr-fallback\"><pre>SVC(kernel=&#x27;linear&#x27;, probability=True)</pre><b>In a Jupyter environment, please rerun this cell to show the HTML representation or trust the notebook. <br />On GitHub, the HTML representation is unable to render, please try loading this page with nbviewer.org.</b></div><div class=\"sk-container\" hidden><div class=\"sk-item\"><div class=\"sk-estimator sk-toggleable\"><input class=\"sk-toggleable__control sk-hidden--visually\" id=\"sk-estimator-id-1\" type=\"checkbox\" checked><label for=\"sk-estimator-id-1\" class=\"sk-toggleable__label sk-toggleable__label-arrow\">SVC</label><div class=\"sk-toggleable__content\"><pre>SVC(kernel=&#x27;linear&#x27;, probability=True)</pre></div></div></div></div></div>"
      ],
      "text/plain": [
       "SVC(kernel='linear', probability=True)"
      ]
     },
     "execution_count": 14,
     "metadata": {},
     "output_type": "execute_result"
    }
   ],
   "source": [
    "model = load('binary_model.joblib')\n",
    "model"
   ]
  },
  {
   "cell_type": "code",
   "execution_count": 15,
   "id": "549cbcdb-50e1-4154-981b-0d2ab22aa846",
   "metadata": {},
   "outputs": [],
   "source": [
    "art_classifier = SklearnClassifier(model=model)"
   ]
  },
  {
   "cell_type": "markdown",
   "id": "24c62d48-c10b-40be-8a8d-a8ab5f207d74",
   "metadata": {},
   "source": [
    "Targetted PGD attack on training:\n",
    "---------------------------------"
   ]
  },
  {
   "cell_type": "code",
   "execution_count": 16,
   "id": "68a28c42-0d6e-4036-9734-dd4f8f3f6694",
   "metadata": {},
   "outputs": [],
   "source": [
    "pgd = ProjectedGradientDescent(estimator=art_classifier, norm=np.inf, eps=2.0, eps_step=0.3, max_iter=40, \n",
    "                               targeted=True, num_random_init=3, batch_size=128, verbose=False)"
   ]
  },
  {
   "cell_type": "code",
   "execution_count": 17,
   "id": "0af6eda2-d5df-48ae-8e51-3ebdc5acfc38",
   "metadata": {},
   "outputs": [],
   "source": [
    "y_train_target = np.zeros((y_train_zero_5.shape[0], 2)) #only using 2 classes \n",
    "y_train_target[:,1] = 1\n"
   ]
  },
  {
   "cell_type": "code",
   "execution_count": 18,
   "id": "0a0c694f-7e49-4167-a53a-b008d462bbc1",
   "metadata": {},
   "outputs": [
    {
     "data": {
      "text/plain": [
       "array([[0., 1.],\n",
       "       [0., 1.],\n",
       "       [0., 1.],\n",
       "       [0., 1.],\n",
       "       [0., 1.],\n",
       "       [0., 1.],\n",
       "       [0., 1.],\n",
       "       [0., 1.],\n",
       "       [0., 1.],\n",
       "       [0., 1.]])"
      ]
     },
     "execution_count": 18,
     "metadata": {},
     "output_type": "execute_result"
    }
   ],
   "source": [
    "y_train_target[:10]"
   ]
  },
  {
   "cell_type": "code",
   "execution_count": 19,
   "id": "b242cb50-e734-4d4a-bf42-1cbd8850a02b",
   "metadata": {},
   "outputs": [],
   "source": [
    "#x_train_adv = pgd.generate(x_train_zero_5, y=y_train_target)\n",
    "#dump(x_train_adv, 'training_5k_advsamples.joblib')"
   ]
  },
  {
   "cell_type": "code",
   "execution_count": 20,
   "id": "5c059ea4-fcf8-4075-8af4-155aa7819698",
   "metadata": {},
   "outputs": [
    {
     "data": {
      "text/plain": [
       "(5000, 784)"
      ]
     },
     "execution_count": 20,
     "metadata": {},
     "output_type": "execute_result"
    }
   ],
   "source": [
    "x_train_adv= load('training_5k_advsamples.joblib')\n",
    "x_train_adv.shape"
   ]
  },
  {
   "cell_type": "code",
   "execution_count": 21,
   "id": "27d65e98-fbc3-4a85-80b8-daf4041c2f74",
   "metadata": {},
   "outputs": [
    {
     "data": {
      "text/plain": [
       "(array([0]), array([5000]))"
      ]
     },
     "execution_count": 21,
     "metadata": {},
     "output_type": "execute_result"
    }
   ],
   "source": [
    "# this is the performance on the samples before they are perturbed\n",
    "y_preds_benign=model.predict(x_train_zero_5)\n",
    "np.unique(y_preds_benign, return_counts=True)"
   ]
  },
  {
   "cell_type": "code",
   "execution_count": 22,
   "id": "ebae81f1-8842-4bb2-8c97-2b98b52f00ec",
   "metadata": {},
   "outputs": [
    {
     "data": {
      "text/plain": [
       "(array([1]), array([5000]))"
      ]
     },
     "execution_count": 22,
     "metadata": {},
     "output_type": "execute_result"
    }
   ],
   "source": [
    "# this is the performance on the adversarial samples\n",
    "y_preds_adv=model.predict(x_train_adv)\n",
    "np.unique(y_preds_adv, return_counts=True)"
   ]
  },
  {
   "cell_type": "code",
   "execution_count": 23,
   "id": "ae16c8f4-b4d8-4b5b-88ac-3f71aedadf16",
   "metadata": {},
   "outputs": [],
   "source": [
    "from sklearn.metrics import f1_score,precision_score,recall_score, confusion_matrix, classification_report, ConfusionMatrixDisplay\n",
    "from sklearn.metrics import accuracy_score"
   ]
  },
  {
   "cell_type": "code",
   "execution_count": 24,
   "id": "28569590",
   "metadata": {},
   "outputs": [
    {
     "name": "stdout",
     "output_type": "stream",
     "text": [
      " attack: False -- recall  1.000\n",
      " attack: False -- f1score  1.000\n",
      " attack: False -- accuracy  1.000\n"
     ]
    },
    {
     "name": "stderr",
     "output_type": "stream",
     "text": [
      "/opt/conda/lib/python3.10/site-packages/sklearn/metrics/_classification.py:1386: UserWarning: Note that pos_label (set to 0) is ignored when average != 'binary' (got 'macro'). You may use labels=[pos_label] to specify a single positive class.\n",
      "  warnings.warn(\n",
      "/opt/conda/lib/python3.10/site-packages/sklearn/metrics/_classification.py:1386: UserWarning: Note that pos_label (set to 0) is ignored when average != 'binary' (got 'macro'). You may use labels=[pos_label] to specify a single positive class.\n",
      "  warnings.warn(\n"
     ]
    }
   ],
   "source": [
    "model_performance(y_train_zero_5, y_preds_benign, attack=False, target_label=0)"
   ]
  },
  {
   "cell_type": "code",
   "execution_count": 25,
   "id": "1acfa6ef",
   "metadata": {},
   "outputs": [
    {
     "name": "stdout",
     "output_type": "stream",
     "text": [
      " attack: True -- recall  0.000\n",
      " attack: True -- f1score  0.000\n",
      " attack: True -- accuracy  0.000\n",
      " attack success rate: 1.0\n"
     ]
    },
    {
     "name": "stderr",
     "output_type": "stream",
     "text": [
      "/opt/conda/lib/python3.10/site-packages/sklearn/metrics/_classification.py:1386: UserWarning: Note that pos_label (set to 0) is ignored when average != 'binary' (got 'macro'). You may use labels=[pos_label] to specify a single positive class.\n",
      "  warnings.warn(\n",
      "/opt/conda/lib/python3.10/site-packages/sklearn/metrics/_classification.py:1334: UndefinedMetricWarning: Recall is ill-defined and being set to 0.0 in labels with no true samples. Use `zero_division` parameter to control this behavior.\n",
      "  _warn_prf(average, modifier, msg_start, len(result))\n",
      "/opt/conda/lib/python3.10/site-packages/sklearn/metrics/_classification.py:1386: UserWarning: Note that pos_label (set to 0) is ignored when average != 'binary' (got 'macro'). You may use labels=[pos_label] to specify a single positive class.\n",
      "  warnings.warn(\n"
     ]
    }
   ],
   "source": [
    "model_performance(y_train_zero_5, y_preds_adv, attack=True, target_label=0)"
   ]
  },
  {
   "cell_type": "markdown",
   "id": "99da6a86-83dc-4c35-80e0-85ef5a7ccfd5",
   "metadata": {},
   "source": [
    "Tagetted attack on testing data:\n",
    "----------------------------------------"
   ]
  },
  {
   "cell_type": "code",
   "execution_count": 26,
   "id": "23de27d3-7016-4054-b66b-cf058d229f40",
   "metadata": {},
   "outputs": [],
   "source": [
    "y_test_target = np.zeros((y_test_zero_5.shape[0], 2))\n",
    "y_test_target[:,1] = 1\n"
   ]
  },
  {
   "cell_type": "code",
   "execution_count": 27,
   "id": "09647598-0d3d-4e03-b505-1b4dda23032e",
   "metadata": {},
   "outputs": [
    {
     "data": {
      "text/plain": [
       "(980,)"
      ]
     },
     "execution_count": 27,
     "metadata": {},
     "output_type": "execute_result"
    }
   ],
   "source": [
    "y_test_zero_5.shape"
   ]
  },
  {
   "cell_type": "code",
   "execution_count": 28,
   "id": "c772cd13-8750-467d-b70a-c877ec0b6a0f",
   "metadata": {},
   "outputs": [],
   "source": [
    "#x_test_adv = pgd.generate(x_test_zero_5, y=y_train_target)\n",
    "#dump(x_test_adv, 'testing_5k_advsamples.joblib')"
   ]
  },
  {
   "cell_type": "code",
   "execution_count": 29,
   "id": "1fb232e2-a253-47f7-a719-205c1debc051",
   "metadata": {},
   "outputs": [],
   "source": [
    "x_test_adv = load('testing_5k_advsamples.joblib')"
   ]
  },
  {
   "cell_type": "code",
   "execution_count": 30,
   "id": "2b1ec985-e46a-4141-94a3-0091a5ca81bd",
   "metadata": {},
   "outputs": [
    {
     "data": {
      "text/plain": [
       "(array([0, 1]), array([979,   1]))"
      ]
     },
     "execution_count": 30,
     "metadata": {},
     "output_type": "execute_result"
    }
   ],
   "source": [
    "# this is the performance on the samples before they are perturbed\n",
    "\n",
    "y_preds_test_benign=model.predict(x_test_zero_5)\n",
    "np.unique(y_preds_test_benign, return_counts=True)"
   ]
  },
  {
   "cell_type": "code",
   "execution_count": 31,
   "id": "cfc286e9-f045-4211-8fe3-5391235aeecb",
   "metadata": {},
   "outputs": [
    {
     "data": {
      "text/plain": [
       "(array([1]), array([5000]))"
      ]
     },
     "execution_count": 31,
     "metadata": {},
     "output_type": "execute_result"
    }
   ],
   "source": [
    "# this is the performance on the adversarial samples\n",
    "y_preds_test_adv=model.predict(x_test_adv)\n",
    "np.unique(y_preds_adv, return_counts=True)"
   ]
  },
  {
   "cell_type": "code",
   "execution_count": 32,
   "id": "6964bf0e",
   "metadata": {},
   "outputs": [
    {
     "name": "stdout",
     "output_type": "stream",
     "text": [
      " attack: False -- recall  0.499\n",
      " attack: False -- f1score  0.500\n",
      " attack: False -- accuracy  0.999\n",
      "\n",
      "\n",
      " attack: True -- recall  0.000\n",
      " attack: True -- f1score  0.000\n",
      " attack: True -- accuracy  0.000\n",
      " attack success rate: 1.0\n"
     ]
    },
    {
     "name": "stderr",
     "output_type": "stream",
     "text": [
      "/opt/conda/lib/python3.10/site-packages/sklearn/metrics/_classification.py:1386: UserWarning: Note that pos_label (set to 0) is ignored when average != 'binary' (got 'macro'). You may use labels=[pos_label] to specify a single positive class.\n",
      "  warnings.warn(\n",
      "/opt/conda/lib/python3.10/site-packages/sklearn/metrics/_classification.py:1334: UndefinedMetricWarning: Recall is ill-defined and being set to 0.0 in labels with no true samples. Use `zero_division` parameter to control this behavior.\n",
      "  _warn_prf(average, modifier, msg_start, len(result))\n",
      "/opt/conda/lib/python3.10/site-packages/sklearn/metrics/_classification.py:1386: UserWarning: Note that pos_label (set to 0) is ignored when average != 'binary' (got 'macro'). You may use labels=[pos_label] to specify a single positive class.\n",
      "  warnings.warn(\n",
      "/opt/conda/lib/python3.10/site-packages/sklearn/metrics/_classification.py:1386: UserWarning: Note that pos_label (set to 0) is ignored when average != 'binary' (got 'macro'). You may use labels=[pos_label] to specify a single positive class.\n",
      "  warnings.warn(\n",
      "/opt/conda/lib/python3.10/site-packages/sklearn/metrics/_classification.py:1334: UndefinedMetricWarning: Recall is ill-defined and being set to 0.0 in labels with no true samples. Use `zero_division` parameter to control this behavior.\n",
      "  _warn_prf(average, modifier, msg_start, len(result))\n",
      "/opt/conda/lib/python3.10/site-packages/sklearn/metrics/_classification.py:1386: UserWarning: Note that pos_label (set to 0) is ignored when average != 'binary' (got 'macro'). You may use labels=[pos_label] to specify a single positive class.\n",
      "  warnings.warn(\n"
     ]
    }
   ],
   "source": [
    "model_performance(y_test_zero_5, y_preds_test_benign, attack=False, target_label=0)\n",
    "print()\n",
    "print()\n",
    "model_performance(y_test_zero_5, y_preds_test_adv, attack=True, target_label=0)"
   ]
  },
  {
   "cell_type": "markdown",
   "id": "15e9d97a-bb0f-46c1-890a-5d17d9dfdf16",
   "metadata": {},
   "source": [
    "SELECTING SUCCESFUL SAMPLES:\n",
    "---------------------------------"
   ]
  },
  {
   "cell_type": "code",
   "execution_count": 33,
   "id": "d6a06a61-8373-425d-8c9b-6e18489f5e9a",
   "metadata": {},
   "outputs": [],
   "source": [
    "import pandas as pd \n"
   ]
  },
  {
   "cell_type": "code",
   "execution_count": 34,
   "id": "10133dfd-551c-437f-9b0f-1d4d100d4a87",
   "metadata": {},
   "outputs": [],
   "source": [
    "succ_adv_samples=x_test_adv[(y_preds_test_adv == 1) & (y_preds_test_benign== 0)]\n",
    "succ_adv_samples=pd.DataFrame(succ_adv_samples)#successful samples with index values "
   ]
  },
  {
   "cell_type": "code",
   "execution_count": 35,
   "id": "a939909d-01f6-484a-a20a-a82d45699f1b",
   "metadata": {},
   "outputs": [
    {
     "data": {
      "text/plain": [
       "(979, 784)"
      ]
     },
     "execution_count": 35,
     "metadata": {},
     "output_type": "execute_result"
    }
   ],
   "source": [
    "succ_adv_samples.shape"
   ]
  },
  {
   "cell_type": "markdown",
   "id": "07bb2cf0-6879-49d8-8ee7-ccbd63f84e6e",
   "metadata": {},
   "source": [
    "Introducing MPD:\n",
    "-----------------------"
   ]
  },
  {
   "cell_type": "code",
   "execution_count": 36,
   "id": "1a68e5ea-5667-44eb-ab02-bd5c6d39a73b",
   "metadata": {},
   "outputs": [],
   "source": [
    "from MPD import MPD\n",
    "from sklearn.tree import DecisionTreeClassifier"
   ]
  },
  {
   "cell_type": "code",
   "execution_count": 37,
   "id": "4a5e4aef-9428-4f06-bc39-10973b00f2bc",
   "metadata": {},
   "outputs": [],
   "source": [
    "#mpd = MPD(x_train_binary, y_train_binary, DecisionTreeClassifier(), num_bootstrap=100) #training only on 2 classes \n",
    "#dump(mpd, 'binary_mpd_dtc.joblib') \n"
   ]
  },
  {
   "cell_type": "code",
   "execution_count": 38,
   "id": "b912b917-5277-4f10-9ff1-5af0145ddda1",
   "metadata": {},
   "outputs": [],
   "source": [
    "mpd=load('binary_mpd_dtc.joblib')"
   ]
  },
  {
   "cell_type": "code",
   "execution_count": 39,
   "id": "4deef774-c2a3-4018-8702-4522cccd6c63",
   "metadata": {},
   "outputs": [
    {
     "data": {
      "text/plain": [
       "(980,)"
      ]
     },
     "execution_count": 39,
     "metadata": {},
     "output_type": "execute_result"
    }
   ],
   "source": [
    "y_test_zero.shape"
   ]
  },
  {
   "cell_type": "code",
   "execution_count": 40,
   "id": "3102ebbb-c2d8-469a-89a9-cdc8116042f7",
   "metadata": {},
   "outputs": [
    {
     "data": {
      "text/plain": [
       "(450, 784)"
      ]
     },
     "execution_count": 40,
     "metadata": {},
     "output_type": "execute_result"
    }
   ],
   "source": [
    "succ_adv_samples=succ_adv_samples[:450]\n",
    "succ_adv_samples.shape"
   ]
  },
  {
   "cell_type": "markdown",
   "id": "e0ac6240-2a72-4657-85b6-5a958b891c5d",
   "metadata": {},
   "source": [
    "MPD before attack:\n",
    "--------------------"
   ]
  },
  {
   "cell_type": "code",
   "execution_count": 41,
   "id": "810e05fe-3566-440b-9838-c76a8a2742aa",
   "metadata": {},
   "outputs": [
    {
     "data": {
      "text/plain": [
       "array([0., 0., 0., 0., 0.])"
      ]
     },
     "execution_count": 41,
     "metadata": {},
     "output_type": "execute_result"
    }
   ],
   "source": [
    "# no attack\n",
    "mpd_scores_no_attack = mpd.get_mpd_score(x_test_zero_5)\n",
    "mpd_scores_no_attack[:5]"
   ]
  },
  {
   "cell_type": "code",
   "execution_count": 42,
   "id": "547b3edd-c60e-4eb4-b818-37a7e0edfb53",
   "metadata": {},
   "outputs": [],
   "source": [
    "# 5000 ones and 450 other zeroes and  450 adversarial samples \n",
    "x_test_one_5=x_test_one[0:5000]\n",
    "y_test_one_5=y_test_one[0:5000]\n",
    "\n",
    "x_test_zero_last450=x_test_zero[-450:]\n",
    "y_test_zero_last450=y_test_zero[-450:]\n",
    "\n",
    "x_test_zero_first450=x_test_zero[:450]\n",
    "y_test_zero_first450=y_test_zero[:450]"
   ]
  },
  {
   "cell_type": "code",
   "execution_count": 43,
   "id": "d227baf8-20cb-4c5c-884d-7d637acdb2e6",
   "metadata": {},
   "outputs": [
    {
     "data": {
      "text/plain": [
       "(2035, 784)"
      ]
     },
     "execution_count": 43,
     "metadata": {},
     "output_type": "execute_result"
    }
   ],
   "source": [
    "# adversarial testbed\n",
    "\n",
    "x_adv_testbed= np.concatenate((x_test_one_5, x_test_zero_last450, succ_adv_samples))\n",
    "x_adv_testbed.shape"
   ]
  },
  {
   "cell_type": "code",
   "execution_count": 44,
   "id": "ac6a6981-ec89-4d18-bd79-8e31833ba1c4",
   "metadata": {},
   "outputs": [
    {
     "data": {
      "text/plain": [
       "(1135,)"
      ]
     },
     "execution_count": 44,
     "metadata": {},
     "output_type": "execute_result"
    }
   ],
   "source": [
    "y_test_one.shape"
   ]
  },
  {
   "cell_type": "code",
   "execution_count": 45,
   "id": "dd048160-f511-4b0b-b714-f052b26a49d3",
   "metadata": {},
   "outputs": [
    {
     "data": {
      "text/plain": [
       "(array([0, 1]), array([1585,  450]))"
      ]
     },
     "execution_count": 45,
     "metadata": {},
     "output_type": "execute_result"
    }
   ],
   "source": [
    "#concatenating all non adv samples and here y_test_zero_200 will be updated\n",
    "y_testbed=np.concatenate((y_test_one_5, y_test_zero_last450, y_test_zero_first450))\n",
    "y_testbed[:-450]=0\n",
    "y_testbed[-450:] =1\n",
    "np.unique(y_testbed, return_counts=True)"
   ]
  },
  {
   "cell_type": "code",
   "execution_count": 46,
   "id": "7bf35163-b073-40a0-a95f-aa12aa228ed9",
   "metadata": {},
   "outputs": [
    {
     "data": {
      "text/plain": [
       "(2035,)"
      ]
     },
     "execution_count": 46,
     "metadata": {},
     "output_type": "execute_result"
    }
   ],
   "source": [
    "#mpd scores after attack\n",
    "\n",
    "mpd_scores_attack = mpd.get_mpd_score(x_adv_testbed)\n",
    "mpd_scores_attack.shape"
   ]
  },
  {
   "cell_type": "code",
   "execution_count": 47,
   "id": "116573d7-148a-4669-bb9a-90dc9ccd9de9",
   "metadata": {},
   "outputs": [
    {
     "data": {
      "text/plain": [
       "array([0.01, 0.02, 0.03, 0.04, 0.05, 0.06, 0.07, 0.08, 0.09, 0.1 , 0.11,\n",
       "       0.12, 0.13, 0.14, 0.15, 0.16, 0.17, 0.18, 0.19, 0.2 , 0.21, 0.22,\n",
       "       0.23, 0.24, 0.25, 0.26, 0.27, 0.28, 0.29, 0.3 , 0.31, 0.32, 0.33,\n",
       "       0.34, 0.35, 0.36, 0.37, 0.38, 0.39, 0.4 , 0.41, 0.42, 0.43, 0.44,\n",
       "       0.45, 0.46, 0.47, 0.48, 0.49, 0.5 , 0.51, 0.52, 0.53, 0.54, 0.55,\n",
       "       0.56, 0.57, 0.58, 0.59, 0.6 , 0.61, 0.62, 0.63, 0.64, 0.65, 0.66,\n",
       "       0.67, 0.68, 0.69, 0.7 , 0.71, 0.72, 0.73, 0.74, 0.75, 0.76, 0.77])"
      ]
     },
     "execution_count": 47,
     "metadata": {},
     "output_type": "execute_result"
    }
   ],
   "source": [
    "#threshold value \n",
    "thvalues = np.linspace(0.01, 0.77, 77)\n",
    "thvalues"
   ]
  },
  {
   "cell_type": "code",
   "execution_count": 48,
   "id": "25e04139-475e-42e9-9557-9d2223d780ae",
   "metadata": {},
   "outputs": [
    {
     "data": {
      "text/plain": [
       "(2035,)"
      ]
     },
     "execution_count": 48,
     "metadata": {},
     "output_type": "execute_result"
    }
   ],
   "source": [
    "mpd_scores_attack.shape"
   ]
  },
  {
   "cell_type": "code",
   "execution_count": 49,
   "id": "6886072b-cf47-4a9a-b0b4-e5bb32f8a03b",
   "metadata": {},
   "outputs": [
    {
     "data": {
      "text/plain": [
       "(2035,)"
      ]
     },
     "execution_count": 49,
     "metadata": {},
     "output_type": "execute_result"
    }
   ],
   "source": [
    "y_testbed.shape"
   ]
  },
  {
   "cell_type": "code",
   "execution_count": 50,
   "id": "aa8ba15c",
   "metadata": {},
   "outputs": [],
   "source": [
    "from sklearn.metrics import f1_score,precision_score,recall_score, confusion_matrix, classification_report, ConfusionMatrixDisplay\n",
    "from sklearn.metrics import accuracy_score"
   ]
  },
  {
   "cell_type": "code",
   "execution_count": 51,
   "id": "b830c993-a530-4c5d-bc8c-76708858b34f",
   "metadata": {},
   "outputs": [],
   "source": [
    "score_list=pd.DataFrame(columns=[\"Threshold_value\",\"TP\",\"FN\",\"FP\",\"TN\", \"recall\", 'f1_score', 'accuracy'])\n",
    "\n",
    "for idx, t in enumerate(thvalues) :\n",
    "    mpd_preds = (mpd_scores_attack>t).astype(int)\n",
    "    \n",
    "    #print(f\"the threshold value is {j} and the mpd predicted label is {mpd_preds[:5]}\")\n",
    "    cmvalues= (confusion_matrix(y_testbed, mpd_preds).ravel()).tolist()\n",
    "    values=[t.tolist(),]\n",
    "    values.extend(cmvalues)\n",
    "    values.append(recall_score(y_testbed,mpd_preds))  \n",
    "    values.append(f1_score(y_testbed,mpd_preds))\n",
    "    values.append(accuracy_score(y_testbed,mpd_preds))\n",
    "\n",
    "\n",
    "    score_list.loc[idx] = values  "
   ]
  },
  {
   "cell_type": "code",
   "execution_count": 52,
   "id": "3bf58383-b984-47e7-9897-a83d744bf164",
   "metadata": {},
   "outputs": [
    {
     "data": {
      "text/html": [
       "<div>\n",
       "<style scoped>\n",
       "    .dataframe tbody tr th:only-of-type {\n",
       "        vertical-align: middle;\n",
       "    }\n",
       "\n",
       "    .dataframe tbody tr th {\n",
       "        vertical-align: top;\n",
       "    }\n",
       "\n",
       "    .dataframe thead th {\n",
       "        text-align: right;\n",
       "    }\n",
       "</style>\n",
       "<table border=\"1\" class=\"dataframe\">\n",
       "  <thead>\n",
       "    <tr style=\"text-align: right;\">\n",
       "      <th></th>\n",
       "      <th>Threshold_value</th>\n",
       "      <th>TP</th>\n",
       "      <th>FN</th>\n",
       "      <th>FP</th>\n",
       "      <th>TN</th>\n",
       "      <th>recall</th>\n",
       "      <th>f1_score</th>\n",
       "      <th>accuracy</th>\n",
       "    </tr>\n",
       "  </thead>\n",
       "  <tbody>\n",
       "    <tr>\n",
       "      <th>0</th>\n",
       "      <td>0.01</td>\n",
       "      <td>1547.0</td>\n",
       "      <td>38.0</td>\n",
       "      <td>0.0</td>\n",
       "      <td>450.0</td>\n",
       "      <td>1.0</td>\n",
       "      <td>0.959488</td>\n",
       "      <td>0.981327</td>\n",
       "    </tr>\n",
       "    <tr>\n",
       "      <th>1</th>\n",
       "      <td>0.02</td>\n",
       "      <td>1547.0</td>\n",
       "      <td>38.0</td>\n",
       "      <td>0.0</td>\n",
       "      <td>450.0</td>\n",
       "      <td>1.0</td>\n",
       "      <td>0.959488</td>\n",
       "      <td>0.981327</td>\n",
       "    </tr>\n",
       "    <tr>\n",
       "      <th>2</th>\n",
       "      <td>0.03</td>\n",
       "      <td>1547.0</td>\n",
       "      <td>38.0</td>\n",
       "      <td>0.0</td>\n",
       "      <td>450.0</td>\n",
       "      <td>1.0</td>\n",
       "      <td>0.959488</td>\n",
       "      <td>0.981327</td>\n",
       "    </tr>\n",
       "    <tr>\n",
       "      <th>3</th>\n",
       "      <td>0.04</td>\n",
       "      <td>1547.0</td>\n",
       "      <td>38.0</td>\n",
       "      <td>0.0</td>\n",
       "      <td>450.0</td>\n",
       "      <td>1.0</td>\n",
       "      <td>0.959488</td>\n",
       "      <td>0.981327</td>\n",
       "    </tr>\n",
       "    <tr>\n",
       "      <th>4</th>\n",
       "      <td>0.05</td>\n",
       "      <td>1547.0</td>\n",
       "      <td>38.0</td>\n",
       "      <td>0.0</td>\n",
       "      <td>450.0</td>\n",
       "      <td>1.0</td>\n",
       "      <td>0.959488</td>\n",
       "      <td>0.981327</td>\n",
       "    </tr>\n",
       "    <tr>\n",
       "      <th>...</th>\n",
       "      <td>...</td>\n",
       "      <td>...</td>\n",
       "      <td>...</td>\n",
       "      <td>...</td>\n",
       "      <td>...</td>\n",
       "      <td>...</td>\n",
       "      <td>...</td>\n",
       "      <td>...</td>\n",
       "    </tr>\n",
       "    <tr>\n",
       "      <th>72</th>\n",
       "      <td>0.73</td>\n",
       "      <td>1585.0</td>\n",
       "      <td>0.0</td>\n",
       "      <td>450.0</td>\n",
       "      <td>0.0</td>\n",
       "      <td>0.0</td>\n",
       "      <td>0.000000</td>\n",
       "      <td>0.778870</td>\n",
       "    </tr>\n",
       "    <tr>\n",
       "      <th>73</th>\n",
       "      <td>0.74</td>\n",
       "      <td>1585.0</td>\n",
       "      <td>0.0</td>\n",
       "      <td>450.0</td>\n",
       "      <td>0.0</td>\n",
       "      <td>0.0</td>\n",
       "      <td>0.000000</td>\n",
       "      <td>0.778870</td>\n",
       "    </tr>\n",
       "    <tr>\n",
       "      <th>74</th>\n",
       "      <td>0.75</td>\n",
       "      <td>1585.0</td>\n",
       "      <td>0.0</td>\n",
       "      <td>450.0</td>\n",
       "      <td>0.0</td>\n",
       "      <td>0.0</td>\n",
       "      <td>0.000000</td>\n",
       "      <td>0.778870</td>\n",
       "    </tr>\n",
       "    <tr>\n",
       "      <th>75</th>\n",
       "      <td>0.76</td>\n",
       "      <td>1585.0</td>\n",
       "      <td>0.0</td>\n",
       "      <td>450.0</td>\n",
       "      <td>0.0</td>\n",
       "      <td>0.0</td>\n",
       "      <td>0.000000</td>\n",
       "      <td>0.778870</td>\n",
       "    </tr>\n",
       "    <tr>\n",
       "      <th>76</th>\n",
       "      <td>0.77</td>\n",
       "      <td>1585.0</td>\n",
       "      <td>0.0</td>\n",
       "      <td>450.0</td>\n",
       "      <td>0.0</td>\n",
       "      <td>0.0</td>\n",
       "      <td>0.000000</td>\n",
       "      <td>0.778870</td>\n",
       "    </tr>\n",
       "  </tbody>\n",
       "</table>\n",
       "<p>77 rows × 8 columns</p>\n",
       "</div>"
      ],
      "text/plain": [
       "    Threshold_value      TP    FN     FP     TN  recall  f1_score  accuracy\n",
       "0              0.01  1547.0  38.0    0.0  450.0     1.0  0.959488  0.981327\n",
       "1              0.02  1547.0  38.0    0.0  450.0     1.0  0.959488  0.981327\n",
       "2              0.03  1547.0  38.0    0.0  450.0     1.0  0.959488  0.981327\n",
       "3              0.04  1547.0  38.0    0.0  450.0     1.0  0.959488  0.981327\n",
       "4              0.05  1547.0  38.0    0.0  450.0     1.0  0.959488  0.981327\n",
       "..              ...     ...   ...    ...    ...     ...       ...       ...\n",
       "72             0.73  1585.0   0.0  450.0    0.0     0.0  0.000000  0.778870\n",
       "73             0.74  1585.0   0.0  450.0    0.0     0.0  0.000000  0.778870\n",
       "74             0.75  1585.0   0.0  450.0    0.0     0.0  0.000000  0.778870\n",
       "75             0.76  1585.0   0.0  450.0    0.0     0.0  0.000000  0.778870\n",
       "76             0.77  1585.0   0.0  450.0    0.0     0.0  0.000000  0.778870\n",
       "\n",
       "[77 rows x 8 columns]"
      ]
     },
     "execution_count": 52,
     "metadata": {},
     "output_type": "execute_result"
    }
   ],
   "source": [
    "score_list"
   ]
  },
  {
   "cell_type": "code",
   "execution_count": 53,
   "id": "01dfbb3e-1dfe-414c-813d-e7bb5f0c1b87",
   "metadata": {},
   "outputs": [
    {
     "data": {
      "text/html": [
       "<div>\n",
       "<style scoped>\n",
       "    .dataframe tbody tr th:only-of-type {\n",
       "        vertical-align: middle;\n",
       "    }\n",
       "\n",
       "    .dataframe tbody tr th {\n",
       "        vertical-align: top;\n",
       "    }\n",
       "\n",
       "    .dataframe thead th {\n",
       "        text-align: right;\n",
       "    }\n",
       "</style>\n",
       "<table border=\"1\" class=\"dataframe\">\n",
       "  <thead>\n",
       "    <tr style=\"text-align: right;\">\n",
       "      <th></th>\n",
       "      <th>Threshold_value</th>\n",
       "      <th>TP</th>\n",
       "      <th>FN</th>\n",
       "      <th>FP</th>\n",
       "      <th>TN</th>\n",
       "      <th>recall</th>\n",
       "      <th>f1_score</th>\n",
       "      <th>accuracy</th>\n",
       "    </tr>\n",
       "  </thead>\n",
       "  <tbody>\n",
       "    <tr>\n",
       "      <th>count</th>\n",
       "      <td>77.000000</td>\n",
       "      <td>77.000000</td>\n",
       "      <td>77.000000</td>\n",
       "      <td>77.000000</td>\n",
       "      <td>77.000000</td>\n",
       "      <td>77.000000</td>\n",
       "      <td>77.000000</td>\n",
       "      <td>77.000000</td>\n",
       "    </tr>\n",
       "    <tr>\n",
       "      <th>mean</th>\n",
       "      <td>0.390000</td>\n",
       "      <td>1569.961039</td>\n",
       "      <td>15.038961</td>\n",
       "      <td>321.428571</td>\n",
       "      <td>128.571429</td>\n",
       "      <td>0.285714</td>\n",
       "      <td>0.275846</td>\n",
       "      <td>0.834660</td>\n",
       "    </tr>\n",
       "    <tr>\n",
       "      <th>std</th>\n",
       "      <td>0.223719</td>\n",
       "      <td>12.323962</td>\n",
       "      <td>12.323962</td>\n",
       "      <td>204.622337</td>\n",
       "      <td>204.622337</td>\n",
       "      <td>0.454716</td>\n",
       "      <td>0.439021</td>\n",
       "      <td>0.095215</td>\n",
       "    </tr>\n",
       "    <tr>\n",
       "      <th>min</th>\n",
       "      <td>0.010000</td>\n",
       "      <td>1547.000000</td>\n",
       "      <td>0.000000</td>\n",
       "      <td>0.000000</td>\n",
       "      <td>0.000000</td>\n",
       "      <td>0.000000</td>\n",
       "      <td>0.000000</td>\n",
       "      <td>0.768059</td>\n",
       "    </tr>\n",
       "    <tr>\n",
       "      <th>25%</th>\n",
       "      <td>0.200000</td>\n",
       "      <td>1559.000000</td>\n",
       "      <td>5.000000</td>\n",
       "      <td>0.000000</td>\n",
       "      <td>0.000000</td>\n",
       "      <td>0.000000</td>\n",
       "      <td>0.000000</td>\n",
       "      <td>0.773464</td>\n",
       "    </tr>\n",
       "    <tr>\n",
       "      <th>50%</th>\n",
       "      <td>0.390000</td>\n",
       "      <td>1573.000000</td>\n",
       "      <td>12.000000</td>\n",
       "      <td>450.000000</td>\n",
       "      <td>0.000000</td>\n",
       "      <td>0.000000</td>\n",
       "      <td>0.000000</td>\n",
       "      <td>0.776413</td>\n",
       "    </tr>\n",
       "    <tr>\n",
       "      <th>75%</th>\n",
       "      <td>0.580000</td>\n",
       "      <td>1580.000000</td>\n",
       "      <td>26.000000</td>\n",
       "      <td>450.000000</td>\n",
       "      <td>450.000000</td>\n",
       "      <td>1.000000</td>\n",
       "      <td>0.959488</td>\n",
       "      <td>0.981327</td>\n",
       "    </tr>\n",
       "    <tr>\n",
       "      <th>max</th>\n",
       "      <td>0.770000</td>\n",
       "      <td>1585.000000</td>\n",
       "      <td>38.000000</td>\n",
       "      <td>450.000000</td>\n",
       "      <td>450.000000</td>\n",
       "      <td>1.000000</td>\n",
       "      <td>0.971922</td>\n",
       "      <td>0.987224</td>\n",
       "    </tr>\n",
       "  </tbody>\n",
       "</table>\n",
       "</div>"
      ],
      "text/plain": [
       "       Threshold_value           TP         FN          FP          TN  \\\n",
       "count        77.000000    77.000000  77.000000   77.000000   77.000000   \n",
       "mean          0.390000  1569.961039  15.038961  321.428571  128.571429   \n",
       "std           0.223719    12.323962  12.323962  204.622337  204.622337   \n",
       "min           0.010000  1547.000000   0.000000    0.000000    0.000000   \n",
       "25%           0.200000  1559.000000   5.000000    0.000000    0.000000   \n",
       "50%           0.390000  1573.000000  12.000000  450.000000    0.000000   \n",
       "75%           0.580000  1580.000000  26.000000  450.000000  450.000000   \n",
       "max           0.770000  1585.000000  38.000000  450.000000  450.000000   \n",
       "\n",
       "          recall   f1_score   accuracy  \n",
       "count  77.000000  77.000000  77.000000  \n",
       "mean    0.285714   0.275846   0.834660  \n",
       "std     0.454716   0.439021   0.095215  \n",
       "min     0.000000   0.000000   0.768059  \n",
       "25%     0.000000   0.000000   0.773464  \n",
       "50%     0.000000   0.000000   0.776413  \n",
       "75%     1.000000   0.959488   0.981327  \n",
       "max     1.000000   0.971922   0.987224  "
      ]
     },
     "execution_count": 53,
     "metadata": {},
     "output_type": "execute_result"
    }
   ],
   "source": [
    "score_list.describe()"
   ]
  },
  {
   "cell_type": "code",
   "execution_count": 54,
   "id": "4863c6b8-46f4-4383-852b-eb1f6943b74a",
   "metadata": {},
   "outputs": [
    {
     "data": {
      "text/plain": [
       "0.9719222462203023"
      ]
     },
     "execution_count": 54,
     "metadata": {},
     "output_type": "execute_result"
    }
   ],
   "source": [
    "score_list.f1_score.max()"
   ]
  },
  {
   "cell_type": "code",
   "execution_count": 55,
   "id": "db603d94-5fa2-48c4-b909-3c6a219f1131",
   "metadata": {},
   "outputs": [
    {
     "data": {
      "text/html": [
       "<div>\n",
       "<style scoped>\n",
       "    .dataframe tbody tr th:only-of-type {\n",
       "        vertical-align: middle;\n",
       "    }\n",
       "\n",
       "    .dataframe tbody tr th {\n",
       "        vertical-align: top;\n",
       "    }\n",
       "\n",
       "    .dataframe thead th {\n",
       "        text-align: right;\n",
       "    }\n",
       "</style>\n",
       "<table border=\"1\" class=\"dataframe\">\n",
       "  <thead>\n",
       "    <tr style=\"text-align: right;\">\n",
       "      <th></th>\n",
       "      <th>Threshold_value</th>\n",
       "      <th>TP</th>\n",
       "      <th>FN</th>\n",
       "      <th>FP</th>\n",
       "      <th>TN</th>\n",
       "      <th>recall</th>\n",
       "      <th>f1_score</th>\n",
       "      <th>accuracy</th>\n",
       "    </tr>\n",
       "  </thead>\n",
       "  <tbody>\n",
       "    <tr>\n",
       "      <th>19</th>\n",
       "      <td>0.20</td>\n",
       "      <td>1559.0</td>\n",
       "      <td>26.0</td>\n",
       "      <td>0.0</td>\n",
       "      <td>450.0</td>\n",
       "      <td>1.0</td>\n",
       "      <td>0.971922</td>\n",
       "      <td>0.987224</td>\n",
       "    </tr>\n",
       "    <tr>\n",
       "      <th>20</th>\n",
       "      <td>0.21</td>\n",
       "      <td>1559.0</td>\n",
       "      <td>26.0</td>\n",
       "      <td>0.0</td>\n",
       "      <td>450.0</td>\n",
       "      <td>1.0</td>\n",
       "      <td>0.971922</td>\n",
       "      <td>0.987224</td>\n",
       "    </tr>\n",
       "    <tr>\n",
       "      <th>21</th>\n",
       "      <td>0.22</td>\n",
       "      <td>1559.0</td>\n",
       "      <td>26.0</td>\n",
       "      <td>0.0</td>\n",
       "      <td>450.0</td>\n",
       "      <td>1.0</td>\n",
       "      <td>0.971922</td>\n",
       "      <td>0.987224</td>\n",
       "    </tr>\n",
       "  </tbody>\n",
       "</table>\n",
       "</div>"
      ],
      "text/plain": [
       "    Threshold_value      TP    FN   FP     TN  recall  f1_score  accuracy\n",
       "19             0.20  1559.0  26.0  0.0  450.0     1.0  0.971922  0.987224\n",
       "20             0.21  1559.0  26.0  0.0  450.0     1.0  0.971922  0.987224\n",
       "21             0.22  1559.0  26.0  0.0  450.0     1.0  0.971922  0.987224"
      ]
     },
     "execution_count": 55,
     "metadata": {},
     "output_type": "execute_result"
    }
   ],
   "source": [
    "tvalue = score_list[score_list.f1_score==score_list.f1_score.max()]\n",
    "tvalue"
   ]
  },
  {
   "cell_type": "code",
   "execution_count": 56,
   "id": "b3f2dae6-b227-49f0-9a29-8ff30528572e",
   "metadata": {},
   "outputs": [],
   "source": [
    "#taking the best threshold value which is max of f1 score 0.0098\n",
    "best_t = tvalue.Threshold_value.values[0]\n",
    "mpd_pred1 = mpd_scores_attack.copy()\n",
    "mpd_pred1[mpd_pred1 > best_t ] = 1\n",
    "mpd_pred1[mpd_pred1 <= best_t] = 0"
   ]
  },
  {
   "cell_type": "code",
   "execution_count": 57,
   "id": "92e910ae-8ca6-4332-925c-c140de3d2e99",
   "metadata": {},
   "outputs": [
    {
     "data": {
      "text/plain": [
       "<sklearn.metrics._plot.confusion_matrix.ConfusionMatrixDisplay at 0x7ff8708e8c10>"
      ]
     },
     "execution_count": 57,
     "metadata": {},
     "output_type": "execute_result"
    },
    {
     "data": {
      "image/png": "[encoded data removed]",
      "text/plain": [
       "<Figure size 1000x600 with 2 Axes>"
      ]
     },
     "metadata": {},
     "output_type": "display_data"
    }
   ],
   "source": [
    "c = ConfusionMatrixDisplay(confusion_matrix(y_testbed,mpd_pred1), display_labels=['Non-Adversarial','Adversarial'])\n",
    "fig, ax = plt.subplots(figsize=(10,6))\n",
    "plt.grid(False)\n",
    "c.plot(ax = ax, cmap='OrRd', xticks_rotation = 0,values_format='d')"
   ]
  },
  {
   "cell_type": "code",
   "execution_count": 59,
   "id": "b4994824-237c-42cd-a24b-bb197cc0da28",
   "metadata": {},
   "outputs": [],
   "source": [
    "import scipy\n",
    "import matplotlib.pyplot as plt\n",
    "import seaborn as sns\n",
    "sns.set()"
   ]
  },
  {
   "cell_type": "code",
   "execution_count": 60,
   "id": "2c5bb28c-1b45-4e0e-ab0f-f0f4d4981723",
   "metadata": {},
   "outputs": [
    {
     "data": {
      "text/plain": [
       "(0.0, 500.0)"
      ]
     },
     "execution_count": 60,
     "metadata": {},
     "output_type": "execute_result"
    },
    {
     "data": {
      "image/png": "[encoded data removed]",
      "text/plain": [
       "<Figure size 1000x500 with 1 Axes>"
      ]
     },
     "metadata": {},
     "output_type": "display_data"
    }
   ],
   "source": [
    "sns.displot(mpd_scores_no_attack, kde = True, aspect = 2)\n",
    "plt.title(\"MPD scores before attack\")\n",
    "plt.ylim(0,500)"
   ]
  },
  {
   "cell_type": "code",
   "execution_count": 61,
   "id": "e0c432e0-0a46-4142-ad98-4c4656426728",
   "metadata": {},
   "outputs": [
    {
     "data": {
      "text/plain": [
       "(0.0, 500.0)"
      ]
     },
     "execution_count": 61,
     "metadata": {},
     "output_type": "execute_result"
    },
    {
     "data": {
      "image/png": "[encoded data removed]",
      "text/plain": [
       "<Figure size 1000x500 with 1 Axes>"
      ]
     },
     "metadata": {},
     "output_type": "display_data"
    }
   ],
   "source": [
    "sns.displot(mpd_scores_attack, kde = True, aspect = 2)\n",
    "plt.title(\"MPD scores after targeted PGD attack\")\n",
    "plt.ylim(0,500)"
   ]
  },
  {
   "cell_type": "code",
   "execution_count": 67,
   "id": "2a598be1-002c-40b4-b8bd-404816a37a0a",
   "metadata": {},
   "outputs": [
    {
     "data": {
      "text/plain": [
       "array([1, 1, 1, 1, 1, 1, 1, 1, 1, 1, 1, 1, 1, 1, 0, 1, 1, 1, 0, 0, 0, 0,\n",
       "       0, 1, 0, 0])"
      ]
     },
     "execution_count": 67,
     "metadata": {},
     "output_type": "execute_result"
    }
   ],
   "source": [
    "fp_predit = model.predict(fp)\n",
    "fp_predit"
   ]
  },
  {
   "cell_type": "code",
   "execution_count": 68,
   "id": "c2a2069d-29e8-430e-939d-2efe0a2e0be0",
   "metadata": {},
   "outputs": [
    {
     "name": "stderr",
     "output_type": "stream",
     "text": [
      "/opt/conda/lib/python3.10/site-packages/sklearn/metrics/_classification.py:1334: UndefinedMetricWarning: Recall is ill-defined and being set to 0.0 due to no true samples. Use `zero_division` parameter to control this behavior.\n",
      "  _warn_prf(average, modifier, msg_start, len(result))\n"
     ]
    }
   ],
   "source": [
    " ### FP Drilldown\n",
    "fp_f1 = f1_score(fp_ytest, fp_predit)\n",
    "fp_recall = recall_score(fp_ytest, fp_predit)\n",
    "fp_precision = precision_score(fp_ytest, fp_predit)"
   ]
  },
  {
   "cell_type": "code",
   "execution_count": 69,
   "id": "c69c60ac-dc16-4d97-958d-7df1ed0878b7",
   "metadata": {},
   "outputs": [
    {
     "data": {
      "text/plain": [
       "0.3076923076923077"
      ]
     },
     "execution_count": 69,
     "metadata": {},
     "output_type": "execute_result"
    }
   ],
   "source": [
    "fp_accuracy = accuracy_score(fp_ytest, fp_predit)\n",
    "fp_accuracy"
   ]
  },
  {
   "cell_type": "code",
   "execution_count": 70,
   "id": "a1cfcc52-a1ea-4162-af6f-9b9fa7f1f4be",
   "metadata": {},
   "outputs": [
    {
     "data": {
      "text/plain": [
       "0.6923076923076923"
      ]
     },
     "execution_count": 70,
     "metadata": {},
     "output_type": "execute_result"
    }
   ],
   "source": [
    "fp_success=1-fp_accuracy\n",
    "fp_success"
   ]
  },
  {
   "cell_type": "code",
   "execution_count": null,
   "id": "276ef44e-8a68-41ea-9869-ec23b9f58b92",
   "metadata": {},
   "outputs": [],
   "source": []
  },
  {
   "cell_type": "code",
   "execution_count": null,
   "id": "2c7d8951-496d-47ce-82d2-ee4d92bcbf95",
   "metadata": {},
   "outputs": [],
   "source": []
  }
 ],
 "metadata": {
  "kernelspec": {
   "display_name": "Python 3 (ipykernel)",
   "language": "python",
   "name": "python3"
  },
  "language_info": {
   "codemirror_mode": {
    "name": "ipython",
    "version": 3
   },
   "file_extension": ".py",
   "mimetype": "text/x-python",
   "name": "python",
   "nbconvert_exporter": "python",
   "pygments_lexer": "ipython3",
   "version": "3.10.8"
  }
 },
 "nbformat": 4,
 "nbformat_minor": 5
}
