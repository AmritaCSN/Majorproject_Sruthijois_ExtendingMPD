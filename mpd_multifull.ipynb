{
 "cells": [
  {
   "cell_type": "code",
   "execution_count": 1,
   "id": "71b49685-952b-42f2-a77e-17686ea12a3e",
   "metadata": {},
   "outputs": [
    {
     "name": "stderr",
     "output_type": "stream",
     "text": [
      "/opt/conda/lib/python3.10/site-packages/art/estimators/certification/__init__.py:14: UserWarning: PyTorch not found. Not importing DeepZ or Interval Bound Propagation functionality\n",
      "  warnings.warn(\"PyTorch not found. Not importing DeepZ or Interval Bound Propagation functionality\")\n"
     ]
    }
   ],
   "source": [
    "from sklearn.svm import SVC, LinearSVC\n",
    "\n",
    "import numpy as np\n",
    "from matplotlib import pyplot as plt\n",
    "\n",
    "from art.estimators.classification import SklearnClassifier\n",
    "from art.attacks.evasion import ProjectedGradientDescent\n",
    "\n",
    "from art.utils import load_mnist\n",
    "from joblib import dump, load\n",
    "%load_ext autoreload\n",
    "%autoreload 2\n",
    "from utils import model_performance\n",
    "# import warnings\n",
    "# warnings.filterwarnings('ignore')\n"
   ]
  },
  {
   "cell_type": "code",
   "execution_count": 2,
   "id": "b06d982c-7a67-44bf-8910-2da30627b4a7",
   "metadata": {},
   "outputs": [],
   "source": [
    "(x_train, y_train), (x_test, y_test), min_, max_ = load_mnist()"
   ]
  },
  {
   "cell_type": "code",
   "execution_count": 3,
   "id": "198d5d2b-6fe4-4e35-84a2-817ef8d8d8bf",
   "metadata": {},
   "outputs": [],
   "source": [
    "#data seperation to samples and features\n",
    "n_samples_train = x_train.shape[0]\n",
    "n_features_train = x_train.shape[1] * x_train.shape[2] * x_train.shape[3] #this gives an output of features 28*28*1= 784\n",
    "\n",
    "n_samples_test = x_test.shape[0]\n",
    "n_features_test = x_test.shape[1] * x_test.shape[2] * x_test.shape[3]\n",
    "\n",
    "#data flattening which gives the output of (number of samples, 784 features)\n",
    "x_train = x_train.reshape(n_samples_train, n_features_train)\n",
    "x_test = x_test.reshape(n_samples_test, n_features_test)\n",
    "\n",
    "#data flattening using argmax to get the label value \n",
    "y_train = np.argmax(y_train, axis=1)\n",
    "y_test = np.argmax(y_test, axis=1)"
   ]
  },
  {
   "cell_type": "code",
   "execution_count": 4,
   "id": "fb203f88-9a62-4eed-be2d-0d81d3512d9d",
   "metadata": {},
   "outputs": [],
   "source": [
    "#taking only zero's \n",
    "\n",
    "x_train_zero = x_train[y_train == 0]\n",
    "y_train_zero = y_train[y_train == 0]\n",
    "\n",
    "\n",
    "y_test_zero =  y_test[y_test == 0]\n",
    "x_test_zero = x_test[y_test == 0]"
   ]
  },
  {
   "cell_type": "code",
   "execution_count": 5,
   "id": "56836db8-d02b-47aa-9b36-167d7451284f",
   "metadata": {},
   "outputs": [],
   "source": [
    "#taking only one's \n",
    "\n",
    "x_train_one = x_train[y_train == 1]\n",
    "y_train_one = y_train[y_train == 1]\n",
    "\n",
    "\n",
    "y_test_one =  y_test[y_test == 1]\n",
    "x_test_one = x_test[y_test == 1]"
   ]
  },
  {
   "cell_type": "code",
   "execution_count": 6,
   "id": "1b44bbb1-8466-4068-8936-e197cad031a0",
   "metadata": {},
   "outputs": [],
   "source": [
    "#maxing the samples to experiment\n",
    "\n",
    "n_samples_max = 5000\n",
    "x_train_zero_5=x_train_zero[0:n_samples_max]\n",
    "y_train_zero_5=y_train_zero[0:n_samples_max]\n",
    "\n",
    "y_test_zero_5=y_test_zero[0:n_samples_max]\n",
    "x_test_zero_5=x_test_zero[0:n_samples_max]"
   ]
  },
  {
   "cell_type": "code",
   "execution_count": 7,
   "id": "f4991b6e-c07f-424d-acd0-9436f44956f7",
   "metadata": {},
   "outputs": [],
   "source": [
    "x_train_one_5=x_train_one[0:n_samples_max]\n",
    "y_train_one_5=y_train_one[0:n_samples_max]\n",
    "\n",
    "y_test_one_5=y_test_one[0:n_samples_max]\n",
    "x_test_one_5=x_test_one[0:n_samples_max]"
   ]
  },
  {
   "cell_type": "code",
   "execution_count": 8,
   "id": "dee9f75e-d94f-41b6-9ff4-9db4ef6b314f",
   "metadata": {},
   "outputs": [],
   "source": [
    "model = SVC(C=1.0, kernel='linear', probability=True)"
   ]
  },
  {
   "cell_type": "code",
   "execution_count": 9,
   "id": "a2be35fd-ecfb-40b2-a4d1-405e84a9fd34",
   "metadata": {},
   "outputs": [],
   "source": [
    "#model.fit(x_train,y_train)\n",
    "#dump(model, 'dumpmodel.joblib')"
   ]
  },
  {
   "cell_type": "code",
   "execution_count": 10,
   "id": "92f0d10a-3201-4bb1-8fc9-f639487f10a7",
   "metadata": {},
   "outputs": [],
   "source": [
    "model=load('dumpmodel.joblib')"
   ]
  },
  {
   "cell_type": "code",
   "execution_count": 11,
   "id": "60278200-bcc8-48e9-9ef9-4b4934e5afea",
   "metadata": {},
   "outputs": [],
   "source": [
    "art_classifier = SklearnClassifier(model=model)"
   ]
  },
  {
   "cell_type": "code",
   "execution_count": 12,
   "id": "f6e38ea2-467f-4095-bec4-d7df7eef99b8",
   "metadata": {},
   "outputs": [],
   "source": [
    "pgd = ProjectedGradientDescent(estimator=art_classifier, norm=np.inf, eps=2.0, eps_step=0.3, max_iter=40, \n",
    "                               targeted=True, num_random_init=3, batch_size=128, verbose=False)"
   ]
  },
  {
   "cell_type": "code",
   "execution_count": 13,
   "id": "69179ca1-4421-471b-8910-1744bd783b92",
   "metadata": {},
   "outputs": [],
   "source": [
    "y_train_target = np.zeros((y_train_zero_5.shape[0], 2)) #only using 2 classes \n",
    "y_train_target[:,1] = 1\n"
   ]
  },
  {
   "cell_type": "code",
   "execution_count": 14,
   "id": "5aac08c8-320b-427d-8a8e-e7dc8a01ad26",
   "metadata": {},
   "outputs": [],
   "source": [
    "#x_train_adv = pgd.generate(x_train_zero_5, y=y_train_target)\n",
    "#dump(x_train_adv, 'training_5k_advsamples.joblib')"
   ]
  },
  {
   "cell_type": "code",
   "execution_count": 15,
   "id": "87d2e876-4dde-478d-adfa-03ae37a6e4c0",
   "metadata": {},
   "outputs": [
    {
     "data": {
      "text/plain": [
       "(5000, 784)"
      ]
     },
     "execution_count": 15,
     "metadata": {},
     "output_type": "execute_result"
    }
   ],
   "source": [
    "x_train_adv= load('training_5k_advsamples.joblib')\n",
    "x_train_adv.shape"
   ]
  },
  {
   "cell_type": "code",
   "execution_count": 16,
   "id": "988b1890-b7d8-4377-a5a7-e4c6156bdd24",
   "metadata": {},
   "outputs": [
    {
     "data": {
      "text/plain": [
       "(array([0, 2, 5, 6, 8, 9]), array([4979,    1,    5,    3,   11,    1]))"
      ]
     },
     "execution_count": 16,
     "metadata": {},
     "output_type": "execute_result"
    }
   ],
   "source": [
    "# this is the performance on the samples before they are perturbed\n",
    "y_preds_benign=model.predict(x_train_zero_5)\n",
    "np.unique(y_preds_benign, return_counts=True)"
   ]
  },
  {
   "cell_type": "code",
   "execution_count": 17,
   "id": "71816c31-713f-4df9-8daa-e1dc527a02df",
   "metadata": {},
   "outputs": [
    {
     "data": {
      "text/plain": [
       "(array([1]), array([5000]))"
      ]
     },
     "execution_count": 17,
     "metadata": {},
     "output_type": "execute_result"
    }
   ],
   "source": [
    "# this is the performance on the adversarial samples\n",
    "y_preds_adv=model.predict(x_train_adv)\n",
    "np.unique(y_preds_adv, return_counts=True)"
   ]
  },
  {
   "cell_type": "code",
   "execution_count": 18,
   "id": "78776fb5-da93-4d75-912a-351481445cfb",
   "metadata": {},
   "outputs": [],
   "source": [
    "from sklearn.metrics import f1_score,precision_score,recall_score, confusion_matrix, classification_report, ConfusionMatrixDisplay\n",
    "from sklearn.metrics import accuracy_score"
   ]
  },
  {
   "cell_type": "code",
   "execution_count": 19,
   "id": "0ba26432-e88f-4050-b232-1b7a2a923e99",
   "metadata": {
    "tags": []
   },
   "outputs": [
    {
     "name": "stdout",
     "output_type": "stream",
     "text": [
      " attack: True -- recall  0.000\n",
      " attack: True -- f1score  0.000\n",
      " attack: True -- accuracy  0.000\n",
      " attack success rate: 1.0\n",
      "\n",
      " attack: True -- recall  0.000\n",
      " attack: True -- f1score  0.000\n",
      " attack: True -- accuracy  0.000\n",
      " attack success rate: 1.0\n",
      "\n"
     ]
    },
    {
     "name": "stderr",
     "output_type": "stream",
     "text": [
      "/opt/conda/lib/python3.10/site-packages/sklearn/metrics/_classification.py:1386: UserWarning: Note that pos_label (set to 0) is ignored when average != 'binary' (got 'macro'). You may use labels=[pos_label] to specify a single positive class.\n",
      "  warnings.warn(\n",
      "/opt/conda/lib/python3.10/site-packages/sklearn/metrics/_classification.py:1334: UndefinedMetricWarning: Recall is ill-defined and being set to 0.0 in labels with no true samples. Use `zero_division` parameter to control this behavior.\n",
      "  _warn_prf(average, modifier, msg_start, len(result))\n",
      "/opt/conda/lib/python3.10/site-packages/sklearn/metrics/_classification.py:1386: UserWarning: Note that pos_label (set to 0) is ignored when average != 'binary' (got 'macro'). You may use labels=[pos_label] to specify a single positive class.\n",
      "  warnings.warn(\n",
      "/opt/conda/lib/python3.10/site-packages/sklearn/metrics/_classification.py:1386: UserWarning: Note that pos_label (set to 0) is ignored when average != 'binary' (got 'macro'). You may use labels=[pos_label] to specify a single positive class.\n",
      "  warnings.warn(\n",
      "/opt/conda/lib/python3.10/site-packages/sklearn/metrics/_classification.py:1334: UndefinedMetricWarning: Recall is ill-defined and being set to 0.0 in labels with no true samples. Use `zero_division` parameter to control this behavior.\n",
      "  _warn_prf(average, modifier, msg_start, len(result))\n",
      "/opt/conda/lib/python3.10/site-packages/sklearn/metrics/_classification.py:1386: UserWarning: Note that pos_label (set to 0) is ignored when average != 'binary' (got 'macro'). You may use labels=[pos_label] to specify a single positive class.\n",
      "  warnings.warn(\n"
     ]
    }
   ],
   "source": [
    "model_performance(y_train_zero_5, y_preds_adv, attack=True, target_label=0)\n",
    "print()\n",
    "model_performance(y_train_zero_5, y_preds_adv, attack=True, target_label=0)\n",
    "print()"
   ]
  },
  {
   "cell_type": "code",
   "execution_count": 20,
   "id": "6467f97c-0258-43d9-92bd-3423dd7615fe",
   "metadata": {},
   "outputs": [],
   "source": [
    "y_test_target = np.zeros((y_test_zero_5.shape[0], 2))\n",
    "y_test_target[:,1] = 1\n"
   ]
  },
  {
   "cell_type": "code",
   "execution_count": 21,
   "id": "504d06a1-9c58-45f3-b223-822924b6690d",
   "metadata": {},
   "outputs": [],
   "source": [
    "#x_test_adv = pgd.generate(x_test_zero_5, y=y_test_target)\n",
    "#dump(x_test_adv, 'testing_5k_advsamples.joblib')"
   ]
  },
  {
   "cell_type": "code",
   "execution_count": 22,
   "id": "40c4e0c0-cbb1-467a-b71f-f4f4530a2876",
   "metadata": {},
   "outputs": [],
   "source": [
    "x_test_adv = load('testing_5k_advsamples.joblib')"
   ]
  },
  {
   "cell_type": "code",
   "execution_count": 23,
   "id": "6c7ebe23-bb29-42ad-a96a-83f77321d778",
   "metadata": {},
   "outputs": [
    {
     "data": {
      "text/plain": [
       "(array([0, 2, 3, 4, 5, 6, 7, 9]),\n",
       " array([957,   4,   1,   1,   6,   9,   1,   1]))"
      ]
     },
     "execution_count": 23,
     "metadata": {},
     "output_type": "execute_result"
    }
   ],
   "source": [
    "# this is the performance on the samples before they are perturbed\n",
    "\n",
    "y_preds_test_benign=model.predict(x_test_zero_5)\n",
    "np.unique(y_preds_test_benign, return_counts=True)"
   ]
  },
  {
   "cell_type": "code",
   "execution_count": 24,
   "id": "491185d9-4da7-4139-82c2-f774144e8d1c",
   "metadata": {},
   "outputs": [
    {
     "data": {
      "text/plain": [
       "(array([1]), array([5000]))"
      ]
     },
     "execution_count": 24,
     "metadata": {},
     "output_type": "execute_result"
    }
   ],
   "source": [
    "# this is the performance on the adversarial samples\n",
    "y_preds_test_adv=model.predict(x_test_adv)\n",
    "np.unique(y_preds_adv, return_counts=True)"
   ]
  },
  {
   "cell_type": "code",
   "execution_count": 25,
   "id": "16c3af50-06cb-43e6-98ab-c3d133b4e0ea",
   "metadata": {
    "tags": []
   },
   "outputs": [
    {
     "name": "stdout",
     "output_type": "stream",
     "text": [
      " attack: False -- recall  0.122\n",
      " attack: False -- f1score  0.124\n",
      " attack: False -- accuracy  0.977\n",
      "\n",
      "\n",
      " attack: True -- recall  0.000\n",
      " attack: True -- f1score  0.000\n",
      " attack: True -- accuracy  0.000\n",
      " attack success rate: 1.0\n"
     ]
    },
    {
     "name": "stderr",
     "output_type": "stream",
     "text": [
      "/opt/conda/lib/python3.10/site-packages/sklearn/metrics/_classification.py:1386: UserWarning: Note that pos_label (set to 0) is ignored when average != 'binary' (got 'macro'). You may use labels=[pos_label] to specify a single positive class.\n",
      "  warnings.warn(\n",
      "/opt/conda/lib/python3.10/site-packages/sklearn/metrics/_classification.py:1334: UndefinedMetricWarning: Recall is ill-defined and being set to 0.0 in labels with no true samples. Use `zero_division` parameter to control this behavior.\n",
      "  _warn_prf(average, modifier, msg_start, len(result))\n",
      "/opt/conda/lib/python3.10/site-packages/sklearn/metrics/_classification.py:1386: UserWarning: Note that pos_label (set to 0) is ignored when average != 'binary' (got 'macro'). You may use labels=[pos_label] to specify a single positive class.\n",
      "  warnings.warn(\n",
      "/opt/conda/lib/python3.10/site-packages/sklearn/metrics/_classification.py:1386: UserWarning: Note that pos_label (set to 0) is ignored when average != 'binary' (got 'macro'). You may use labels=[pos_label] to specify a single positive class.\n",
      "  warnings.warn(\n",
      "/opt/conda/lib/python3.10/site-packages/sklearn/metrics/_classification.py:1334: UndefinedMetricWarning: Recall is ill-defined and being set to 0.0 in labels with no true samples. Use `zero_division` parameter to control this behavior.\n",
      "  _warn_prf(average, modifier, msg_start, len(result))\n",
      "/opt/conda/lib/python3.10/site-packages/sklearn/metrics/_classification.py:1386: UserWarning: Note that pos_label (set to 0) is ignored when average != 'binary' (got 'macro'). You may use labels=[pos_label] to specify a single positive class.\n",
      "  warnings.warn(\n"
     ]
    }
   ],
   "source": [
    "model_performance(y_test_zero_5, y_preds_test_benign, attack=False, target_label=0)\n",
    "print()\n",
    "print()\n",
    "model_performance(y_test_zero_5, y_preds_test_adv, attack=True, target_label=0)"
   ]
  },
  {
   "cell_type": "code",
   "execution_count": 26,
   "id": "5bbabbee-7844-44b0-9688-da5274ed1d3c",
   "metadata": {},
   "outputs": [],
   "source": [
    "import pandas as pd \n"
   ]
  },
  {
   "cell_type": "code",
   "execution_count": 27,
   "id": "3dd37013-2377-47ff-8265-f99dd49051a3",
   "metadata": {},
   "outputs": [],
   "source": [
    "succ_adv_samples=x_test_adv[(y_preds_test_adv == 1) & (y_preds_test_benign != 1)]\n",
    "succ_adv_samples=pd.DataFrame(succ_adv_samples)#successful samples with index values "
   ]
  },
  {
   "cell_type": "code",
   "execution_count": 28,
   "id": "ce26ec54-eba1-4b79-9da5-9b154f72958c",
   "metadata": {},
   "outputs": [],
   "source": [
    "from MPD import UncertaintyTrainer\n",
    "from sklearn.tree import DecisionTreeClassifier"
   ]
  },
  {
   "cell_type": "code",
   "execution_count": 29,
   "id": "e1855de6-442e-4245-bee7-0fe82f4b1a12",
   "metadata": {},
   "outputs": [],
   "source": [
    "#mpd = UncertaintyTrainer(x_train, y_train, DecisionTreeClassifier(), num_bootstrap=100) \n",
    "\n",
    "#dump(mpd, 'new_mpd_dtc.joblib') "
   ]
  },
  {
   "cell_type": "code",
   "execution_count": 30,
   "id": "e529da86-39b4-496f-bbb9-1a954b17d3e4",
   "metadata": {},
   "outputs": [],
   "source": [
    "mpd=load('new_mpd_dtc.joblib')"
   ]
  },
  {
   "cell_type": "code",
   "execution_count": 31,
   "id": "4d86ba73-2599-4b70-bddb-54f32db4d847",
   "metadata": {},
   "outputs": [
    {
     "data": {
      "text/plain": [
       "(980, 784)"
      ]
     },
     "execution_count": 31,
     "metadata": {},
     "output_type": "execute_result"
    }
   ],
   "source": [
    "succ_adv_samples.shape"
   ]
  },
  {
   "cell_type": "code",
   "execution_count": 32,
   "id": "ac5752cc-83bb-455b-be61-c2791b6d1411",
   "metadata": {},
   "outputs": [],
   "source": [
    "#succ_adv_samples=succ_adv_samples[:450]\n",
    "#succ_adv_samples.shape"
   ]
  },
  {
   "cell_type": "code",
   "execution_count": 33,
   "id": "8488c451-db64-4ca6-a3c8-0000fe3b2474",
   "metadata": {},
   "outputs": [
    {
     "data": {
      "text/plain": [
       "array([0.        , 0.17320508, 0.        , 0.        , 0.        ])"
      ]
     },
     "execution_count": 33,
     "metadata": {},
     "output_type": "execute_result"
    }
   ],
   "source": [
    "# no attack\n",
    "mpd_scores_no_attack = mpd.get_mpd_score(x_test)\n",
    "mpd_scores_no_attack[:5]"
   ]
  },
  {
   "cell_type": "code",
   "execution_count": 34,
   "id": "1592c945-7c29-4fc7-8f92-0d45eaefcdb4",
   "metadata": {},
   "outputs": [
    {
     "data": {
      "text/plain": [
       "'\\n# 5000 ones and 450 other zeroes and  450 adversarial samples \\nx_test_one_5=x_test_one[0:5000]\\ny_test_one_5=y_test_one[0:5000]\\n\\nx_test_zero_last450=x_test_zero[-450:]\\ny_test_zero_last450=y_test_zero[-450:]\\n\\nx_test_zero_first450=x_test_zero[:450]\\ny_test_zero_first450=y_test_zero[:450]\\n'"
      ]
     },
     "execution_count": 34,
     "metadata": {},
     "output_type": "execute_result"
    }
   ],
   "source": [
    "'''\n",
    "# 5000 ones and 450 other zeroes and  450 adversarial samples \n",
    "x_test_one_5=x_test_one[0:5000]\n",
    "y_test_one_5=y_test_one[0:5000]\n",
    "\n",
    "x_test_zero_last450=x_test_zero[-450:]\n",
    "y_test_zero_last450=y_test_zero[-450:]\n",
    "\n",
    "x_test_zero_first450=x_test_zero[:450]\n",
    "y_test_zero_first450=y_test_zero[:450]\n",
    "'''"
   ]
  },
  {
   "cell_type": "code",
   "execution_count": 38,
   "id": "93fc9726-2c73-4fb9-9922-802351fe80d4",
   "metadata": {},
   "outputs": [
    {
     "data": {
      "text/plain": [
       "(10980, 784)"
      ]
     },
     "execution_count": 38,
     "metadata": {},
     "output_type": "execute_result"
    }
   ],
   "source": [
    "\n",
    "x_adv_testbed= np.concatenate((x_test, succ_adv_samples))\n",
    "x_adv_testbed.shape"
   ]
  },
  {
   "cell_type": "code",
   "execution_count": 39,
   "id": "b54c44eb-d75d-49e4-8ce9-c7b1fdc242ee",
   "metadata": {},
   "outputs": [
    {
     "data": {
      "text/plain": [
       "(array([0, 1]), array([10000,   980]))"
      ]
     },
     "execution_count": 39,
     "metadata": {},
     "output_type": "execute_result"
    }
   ],
   "source": [
    "#concatenating all non adv samples and here y_test_zero_200 will be updated\n",
    "y_testbed=np.concatenate((y_test, y_test_zero))\n",
    "y_testbed[:-980]=0\n",
    "y_testbed[-980:] =1\n",
    "np.unique(y_testbed, return_counts=True)"
   ]
  },
  {
   "cell_type": "code",
   "execution_count": 40,
   "id": "08805cc5-880d-4162-9f08-a2d2017c5455",
   "metadata": {},
   "outputs": [
    {
     "data": {
      "text/plain": [
       "array([0.        , 0.17320508, 0.        , 0.        , 0.        ])"
      ]
     },
     "execution_count": 40,
     "metadata": {},
     "output_type": "execute_result"
    }
   ],
   "source": [
    "#mpd scores after attack\n",
    "\n",
    "mpd_scores_attack = mpd.get_mpd_score(x_adv_testbed)\n",
    "mpd_scores_attack[:5]"
   ]
  },
  {
   "cell_type": "code",
   "execution_count": 41,
   "id": "072cd539-e20f-4103-81a4-0731a1e6b5ef",
   "metadata": {},
   "outputs": [
    {
     "data": {
      "text/plain": [
       "array([0.01, 0.02, 0.03, 0.04, 0.05, 0.06, 0.07, 0.08, 0.09, 0.1 , 0.11,\n",
       "       0.12, 0.13, 0.14, 0.15, 0.16, 0.17, 0.18, 0.19, 0.2 , 0.21, 0.22,\n",
       "       0.23, 0.24, 0.25, 0.26, 0.27, 0.28, 0.29, 0.3 , 0.31, 0.32, 0.33,\n",
       "       0.34, 0.35, 0.36, 0.37, 0.38, 0.39, 0.4 , 0.41, 0.42, 0.43, 0.44,\n",
       "       0.45, 0.46, 0.47, 0.48, 0.49, 0.5 , 0.51, 0.52, 0.53, 0.54, 0.55,\n",
       "       0.56, 0.57, 0.58, 0.59, 0.6 , 0.61, 0.62, 0.63, 0.64, 0.65, 0.66,\n",
       "       0.67, 0.68, 0.69, 0.7 , 0.71, 0.72, 0.73, 0.74, 0.75, 0.76, 0.77])"
      ]
     },
     "execution_count": 41,
     "metadata": {},
     "output_type": "execute_result"
    }
   ],
   "source": [
    "#threshold value \n",
    "thvalues = np.linspace(0.01, 0.77, 77)\n",
    "thvalues"
   ]
  },
  {
   "cell_type": "code",
   "execution_count": 42,
   "id": "25ff93cb-ef52-4611-a6e8-509620b32a07",
   "metadata": {},
   "outputs": [],
   "source": [
    "from sklearn.metrics import f1_score,precision_score,recall_score, confusion_matrix, classification_report, ConfusionMatrixDisplay\n",
    "from sklearn.metrics import accuracy_score"
   ]
  },
  {
   "cell_type": "code",
   "execution_count": 43,
   "id": "0d0ef6e6-5fd0-4eac-a076-99109679fec3",
   "metadata": {},
   "outputs": [],
   "source": [
    "score_list=pd.DataFrame(columns=[\"Threshold_value\",\"TP\",\"FN\",\"FP\",\"TN\", \"recall\", 'f1_score', 'accuracy'])\n",
    "\n",
    "for idx, t in enumerate(thvalues) :\n",
    "    mpd_preds = (mpd_scores_attack>t).astype(int)\n",
    "    \n",
    "    #print(f\"the threshold value is {j} and the mpd predicted label is {mpd_preds[:5]}\")\n",
    "    cmvalues= (confusion_matrix(y_testbed, mpd_preds).ravel()).tolist()\n",
    "    values=[t.tolist(),]\n",
    "    values.extend(cmvalues)\n",
    "    values.append(recall_score(y_testbed,mpd_preds))  \n",
    "    values.append(f1_score(y_testbed,mpd_preds))\n",
    "    values.append(accuracy_score(y_testbed,mpd_preds))\n",
    "\n",
    "\n",
    "    score_list.loc[idx] = values  "
   ]
  },
  {
   "cell_type": "code",
   "execution_count": 44,
   "id": "841937aa-6285-4dc6-a106-96c8458359aa",
   "metadata": {},
   "outputs": [
    {
     "data": {
      "text/html": [
       "<div>\n",
       "<style scoped>\n",
       "    .dataframe tbody tr th:only-of-type {\n",
       "        vertical-align: middle;\n",
       "    }\n",
       "\n",
       "    .dataframe tbody tr th {\n",
       "        vertical-align: top;\n",
       "    }\n",
       "\n",
       "    .dataframe thead th {\n",
       "        text-align: right;\n",
       "    }\n",
       "</style>\n",
       "<table border=\"1\" class=\"dataframe\">\n",
       "  <thead>\n",
       "    <tr style=\"text-align: right;\">\n",
       "      <th></th>\n",
       "      <th>Threshold_value</th>\n",
       "      <th>TP</th>\n",
       "      <th>FN</th>\n",
       "      <th>FP</th>\n",
       "      <th>TN</th>\n",
       "      <th>recall</th>\n",
       "      <th>f1_score</th>\n",
       "      <th>accuracy</th>\n",
       "    </tr>\n",
       "  </thead>\n",
       "  <tbody>\n",
       "    <tr>\n",
       "      <th>0</th>\n",
       "      <td>0.01</td>\n",
       "      <td>3660.0</td>\n",
       "      <td>6340.0</td>\n",
       "      <td>0.0</td>\n",
       "      <td>980.0</td>\n",
       "      <td>1.0</td>\n",
       "      <td>0.236145</td>\n",
       "      <td>0.422587</td>\n",
       "    </tr>\n",
       "    <tr>\n",
       "      <th>1</th>\n",
       "      <td>0.02</td>\n",
       "      <td>3660.0</td>\n",
       "      <td>6340.0</td>\n",
       "      <td>0.0</td>\n",
       "      <td>980.0</td>\n",
       "      <td>1.0</td>\n",
       "      <td>0.236145</td>\n",
       "      <td>0.422587</td>\n",
       "    </tr>\n",
       "    <tr>\n",
       "      <th>2</th>\n",
       "      <td>0.03</td>\n",
       "      <td>3660.0</td>\n",
       "      <td>6340.0</td>\n",
       "      <td>0.0</td>\n",
       "      <td>980.0</td>\n",
       "      <td>1.0</td>\n",
       "      <td>0.236145</td>\n",
       "      <td>0.422587</td>\n",
       "    </tr>\n",
       "    <tr>\n",
       "      <th>3</th>\n",
       "      <td>0.04</td>\n",
       "      <td>3660.0</td>\n",
       "      <td>6340.0</td>\n",
       "      <td>0.0</td>\n",
       "      <td>980.0</td>\n",
       "      <td>1.0</td>\n",
       "      <td>0.236145</td>\n",
       "      <td>0.422587</td>\n",
       "    </tr>\n",
       "    <tr>\n",
       "      <th>4</th>\n",
       "      <td>0.05</td>\n",
       "      <td>3660.0</td>\n",
       "      <td>6340.0</td>\n",
       "      <td>0.0</td>\n",
       "      <td>980.0</td>\n",
       "      <td>1.0</td>\n",
       "      <td>0.236145</td>\n",
       "      <td>0.422587</td>\n",
       "    </tr>\n",
       "    <tr>\n",
       "      <th>...</th>\n",
       "      <td>...</td>\n",
       "      <td>...</td>\n",
       "      <td>...</td>\n",
       "      <td>...</td>\n",
       "      <td>...</td>\n",
       "      <td>...</td>\n",
       "      <td>...</td>\n",
       "      <td>...</td>\n",
       "    </tr>\n",
       "    <tr>\n",
       "      <th>72</th>\n",
       "      <td>0.73</td>\n",
       "      <td>9375.0</td>\n",
       "      <td>625.0</td>\n",
       "      <td>0.0</td>\n",
       "      <td>980.0</td>\n",
       "      <td>1.0</td>\n",
       "      <td>0.758221</td>\n",
       "      <td>0.943078</td>\n",
       "    </tr>\n",
       "    <tr>\n",
       "      <th>73</th>\n",
       "      <td>0.74</td>\n",
       "      <td>9415.0</td>\n",
       "      <td>585.0</td>\n",
       "      <td>0.0</td>\n",
       "      <td>980.0</td>\n",
       "      <td>1.0</td>\n",
       "      <td>0.770138</td>\n",
       "      <td>0.946721</td>\n",
       "    </tr>\n",
       "    <tr>\n",
       "      <th>74</th>\n",
       "      <td>0.75</td>\n",
       "      <td>9490.0</td>\n",
       "      <td>510.0</td>\n",
       "      <td>0.0</td>\n",
       "      <td>980.0</td>\n",
       "      <td>1.0</td>\n",
       "      <td>0.793522</td>\n",
       "      <td>0.953552</td>\n",
       "    </tr>\n",
       "    <tr>\n",
       "      <th>75</th>\n",
       "      <td>0.76</td>\n",
       "      <td>9518.0</td>\n",
       "      <td>482.0</td>\n",
       "      <td>0.0</td>\n",
       "      <td>980.0</td>\n",
       "      <td>1.0</td>\n",
       "      <td>0.802621</td>\n",
       "      <td>0.956102</td>\n",
       "    </tr>\n",
       "    <tr>\n",
       "      <th>76</th>\n",
       "      <td>0.77</td>\n",
       "      <td>9602.0</td>\n",
       "      <td>398.0</td>\n",
       "      <td>0.0</td>\n",
       "      <td>980.0</td>\n",
       "      <td>1.0</td>\n",
       "      <td>0.831213</td>\n",
       "      <td>0.963752</td>\n",
       "    </tr>\n",
       "  </tbody>\n",
       "</table>\n",
       "<p>77 rows × 8 columns</p>\n",
       "</div>"
      ],
      "text/plain": [
       "    Threshold_value      TP      FN   FP     TN  recall  f1_score  accuracy\n",
       "0              0.01  3660.0  6340.0  0.0  980.0     1.0  0.236145  0.422587\n",
       "1              0.02  3660.0  6340.0  0.0  980.0     1.0  0.236145  0.422587\n",
       "2              0.03  3660.0  6340.0  0.0  980.0     1.0  0.236145  0.422587\n",
       "3              0.04  3660.0  6340.0  0.0  980.0     1.0  0.236145  0.422587\n",
       "4              0.05  3660.0  6340.0  0.0  980.0     1.0  0.236145  0.422587\n",
       "..              ...     ...     ...  ...    ...     ...       ...       ...\n",
       "72             0.73  9375.0   625.0  0.0  980.0     1.0  0.758221  0.943078\n",
       "73             0.74  9415.0   585.0  0.0  980.0     1.0  0.770138  0.946721\n",
       "74             0.75  9490.0   510.0  0.0  980.0     1.0  0.793522  0.953552\n",
       "75             0.76  9518.0   482.0  0.0  980.0     1.0  0.802621  0.956102\n",
       "76             0.77  9602.0   398.0  0.0  980.0     1.0  0.831213  0.963752\n",
       "\n",
       "[77 rows x 8 columns]"
      ]
     },
     "execution_count": 44,
     "metadata": {},
     "output_type": "execute_result"
    }
   ],
   "source": [
    "score_list"
   ]
  },
  {
   "cell_type": "code",
   "execution_count": 45,
   "id": "63d10f13-3268-4c7f-8470-053750ccf8c9",
   "metadata": {},
   "outputs": [
    {
     "data": {
      "text/html": [
       "<div>\n",
       "<style scoped>\n",
       "    .dataframe tbody tr th:only-of-type {\n",
       "        vertical-align: middle;\n",
       "    }\n",
       "\n",
       "    .dataframe tbody tr th {\n",
       "        vertical-align: top;\n",
       "    }\n",
       "\n",
       "    .dataframe thead th {\n",
       "        text-align: right;\n",
       "    }\n",
       "</style>\n",
       "<table border=\"1\" class=\"dataframe\">\n",
       "  <thead>\n",
       "    <tr style=\"text-align: right;\">\n",
       "      <th></th>\n",
       "      <th>Threshold_value</th>\n",
       "      <th>TP</th>\n",
       "      <th>FN</th>\n",
       "      <th>FP</th>\n",
       "      <th>TN</th>\n",
       "      <th>recall</th>\n",
       "      <th>f1_score</th>\n",
       "      <th>accuracy</th>\n",
       "    </tr>\n",
       "  </thead>\n",
       "  <tbody>\n",
       "    <tr>\n",
       "      <th>76</th>\n",
       "      <td>0.77</td>\n",
       "      <td>9602.0</td>\n",
       "      <td>398.0</td>\n",
       "      <td>0.0</td>\n",
       "      <td>980.0</td>\n",
       "      <td>1.0</td>\n",
       "      <td>0.831213</td>\n",
       "      <td>0.963752</td>\n",
       "    </tr>\n",
       "  </tbody>\n",
       "</table>\n",
       "</div>"
      ],
      "text/plain": [
       "    Threshold_value      TP     FN   FP     TN  recall  f1_score  accuracy\n",
       "76             0.77  9602.0  398.0  0.0  980.0     1.0  0.831213  0.963752"
      ]
     },
     "execution_count": 45,
     "metadata": {},
     "output_type": "execute_result"
    }
   ],
   "source": [
    "tvalue = score_list[score_list.f1_score==score_list.f1_score.max()]\n",
    "tvalue"
   ]
  },
  {
   "cell_type": "code",
   "execution_count": 46,
   "id": "d9a49a61-2f7b-4b1a-964b-53826d1d5377",
   "metadata": {},
   "outputs": [],
   "source": [
    "#taking the best threshold value which is max of f1 score 0.0098\n",
    "best_t = tvalue.Threshold_value.values[0]\n",
    "mpd_pred1 = mpd_scores_attack.copy()\n",
    "mpd_pred1[mpd_pred1 > best_t ] = 1\n",
    "mpd_pred1[mpd_pred1 <= best_t] = 0"
   ]
  },
  {
   "cell_type": "code",
   "execution_count": 47,
   "id": "6c02c293-d990-4f96-a791-197fc1b7f961",
   "metadata": {},
   "outputs": [
    {
     "data": {
      "text/plain": [
       "<sklearn.metrics._plot.confusion_matrix.ConfusionMatrixDisplay at 0x7f739e57b460>"
      ]
     },
     "execution_count": 47,
     "metadata": {},
     "output_type": "execute_result"
    },
    {
     "data": {
      "image/png": "[encoded data removed]",
      "text/plain": [
       "<Figure size 1000x600 with 2 Axes>"
      ]
     },
     "metadata": {},
     "output_type": "display_data"
    }
   ],
   "source": [
    "c = ConfusionMatrixDisplay(confusion_matrix(y_testbed,mpd_pred1), display_labels=['Non-Adversarial','Adversarial'])\n",
    "fig, ax = plt.subplots(figsize=(10,6))\n",
    "plt.grid(False)\n",
    "c.plot(ax = ax, cmap='OrRd', xticks_rotation = 0,values_format='d')"
   ]
  },
  {
   "cell_type": "code",
   "execution_count": 48,
   "id": "4fac7e2b-4521-4c1f-8513-6f5b543d9724",
   "metadata": {},
   "outputs": [],
   "source": [
    "import scipy\n",
    "import matplotlib.pyplot as plt\n",
    "import seaborn as sns\n",
    "sns.set()"
   ]
  },
  {
   "cell_type": "code",
   "execution_count": 49,
   "id": "bb4234ad-2496-4bbe-8153-0987d770a9ab",
   "metadata": {},
   "outputs": [
    {
     "data": {
      "text/plain": [
       "(0.0, 4000.0)"
      ]
     },
     "execution_count": 49,
     "metadata": {},
     "output_type": "execute_result"
    },
    {
     "data": {
      "image/png": "[encoded data removed]",
      "text/plain": [
       "<Figure size 1000x500 with 1 Axes>"
      ]
     },
     "metadata": {},
     "output_type": "display_data"
    }
   ],
   "source": [
    "sns.displot(mpd_scores_no_attack, kde = True, aspect = 2)\n",
    "plt.title(\"MPD scores before attack\")\n",
    "plt.ylim(0,4000)"
   ]
  },
  {
   "cell_type": "code",
   "execution_count": 50,
   "id": "811243cd-2708-49ce-8f8e-249b93a316e4",
   "metadata": {},
   "outputs": [
    {
     "data": {
      "text/plain": [
       "(0.0, 4000.0)"
      ]
     },
     "execution_count": 50,
     "metadata": {},
     "output_type": "execute_result"
    },
    {
     "data": {
      "image/png": "[encoded data removed]",
      "text/plain": [
       "<Figure size 1000x500 with 1 Axes>"
      ]
     },
     "metadata": {},
     "output_type": "display_data"
    }
   ],
   "source": [
    "sns.displot(mpd_scores_attack, kde = True, aspect = 2)\n",
    "plt.title(\"MPD scores attack\")\n",
    "plt.ylim(0,4000)"
   ]
  },
  {
   "cell_type": "code",
   "execution_count": null,
   "id": "660e3354-1ca3-4d19-bffb-5cacce98d037",
   "metadata": {},
   "outputs": [],
   "source": []
  }
 ],
 "metadata": {
  "kernelspec": {
   "display_name": "Python 3 (ipykernel)",
   "language": "python",
   "name": "python3"
  },
  "language_info": {
   "codemirror_mode": {
    "name": "ipython",
    "version": 3
   },
   "file_extension": ".py",
   "mimetype": "text/x-python",
   "name": "python",
   "nbconvert_exporter": "python",
   "pygments_lexer": "ipython3",
   "version": "3.10.8"
  }
 },
 "nbformat": 4,
 "nbformat_minor": 5
}
